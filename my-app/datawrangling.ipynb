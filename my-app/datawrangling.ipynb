{
 "metadata": {
  "language_info": {
   "codemirror_mode": {
    "name": "ipython",
    "version": 3
   },
   "file_extension": ".py",
   "mimetype": "text/x-python",
   "name": "python",
   "nbconvert_exporter": "python",
   "pygments_lexer": "ipython3",
   "version": 3
  },
  "orig_nbformat": 2,
  "kernelspec": {
   "name": "python_defaultSpec_1595094706283",
   "display_name": "Python 3.7.4 64-bit ('anaconda3': virtualenv)"
  }
 },
 "nbformat": 4,
 "nbformat_minor": 2,
 "cells": [
  {
   "cell_type": "code",
   "execution_count": 1,
   "metadata": {},
   "outputs": [],
   "source": [
    "import pandas as pd\n",
    "import numpy as np"
   ]
  },
  {
   "cell_type": "code",
   "execution_count": 71,
   "metadata": {},
   "outputs": [],
   "source": [
    "corona_df = pd.read_csv('../covid-19-data/live/us-counties.csv')"
   ]
  },
  {
   "cell_type": "code",
   "execution_count": 72,
   "metadata": {},
   "outputs": [
    {
     "output_type": "execute_result",
     "data": {
      "text/plain": "['date',\n 'county',\n 'state',\n 'fips',\n 'cases',\n 'deaths',\n 'confirmed_cases',\n 'confirmed_deaths',\n 'probable_cases',\n 'probable_deaths']"
     },
     "metadata": {},
     "execution_count": 72
    }
   ],
   "source": [
    "list(corona_df.columns)"
   ]
  },
  {
   "cell_type": "code",
   "execution_count": 92,
   "metadata": {},
   "outputs": [],
   "source": [
    "corona_df = corona_df[['id',\n",
    " 'county',\n",
    " 'state',\n",
    " 'date',\n",
    " 'cases',\n",
    " 'deaths',\n",
    " 'confirmed_cases',\n",
    " 'confirmed_deaths',\n",
    " 'probable_cases',\n",
    " 'probable_deaths',\n",
    " 'norm_cases']]"
   ]
  },
  {
   "cell_type": "code",
   "execution_count": 73,
   "metadata": {},
   "outputs": [],
   "source": [
    "corona_df = corona_df.fillna(0)"
   ]
  },
  {
   "cell_type": "code",
   "execution_count": 93,
   "metadata": {},
   "outputs": [
    {
     "output_type": "execute_result",
     "data": {
      "text/plain": "      id   county    state        date  cases  deaths  confirmed_cases  \\\n0  01001  Autauga  Alabama  2020-07-17      1    21.0            773.0   \n1  01003  Baldwin  Alabama  2020-07-17   1689    14.0           1669.0   \n2  01005  Barbour  Alabama  2020-07-17    463     3.0            448.0   \n3  01007     Bibb  Alabama  2020-07-17    255     2.0            251.0   \n4  01009   Blount  Alabama  2020-07-17    440     1.0            406.0   \n\n   confirmed_deaths  probable_cases  probable_deaths  norm_cases  \n0              20.0            16.0              1.0    0.000004  \n1              13.0            20.0              1.0    0.007493  \n2               3.0            15.0              0.0    0.002054  \n3               2.0             4.0              0.0    0.001131  \n4               1.0            34.0              0.0    0.001952  ",
      "text/html": "<div>\n<style scoped>\n    .dataframe tbody tr th:only-of-type {\n        vertical-align: middle;\n    }\n\n    .dataframe tbody tr th {\n        vertical-align: top;\n    }\n\n    .dataframe thead th {\n        text-align: right;\n    }\n</style>\n<table border=\"1\" class=\"dataframe\">\n  <thead>\n    <tr style=\"text-align: right;\">\n      <th></th>\n      <th>id</th>\n      <th>county</th>\n      <th>state</th>\n      <th>date</th>\n      <th>cases</th>\n      <th>deaths</th>\n      <th>confirmed_cases</th>\n      <th>confirmed_deaths</th>\n      <th>probable_cases</th>\n      <th>probable_deaths</th>\n      <th>norm_cases</th>\n    </tr>\n  </thead>\n  <tbody>\n    <tr>\n      <th>0</th>\n      <td>01001</td>\n      <td>Autauga</td>\n      <td>Alabama</td>\n      <td>2020-07-17</td>\n      <td>1</td>\n      <td>21.0</td>\n      <td>773.0</td>\n      <td>20.0</td>\n      <td>16.0</td>\n      <td>1.0</td>\n      <td>0.000004</td>\n    </tr>\n    <tr>\n      <th>1</th>\n      <td>01003</td>\n      <td>Baldwin</td>\n      <td>Alabama</td>\n      <td>2020-07-17</td>\n      <td>1689</td>\n      <td>14.0</td>\n      <td>1669.0</td>\n      <td>13.0</td>\n      <td>20.0</td>\n      <td>1.0</td>\n      <td>0.007493</td>\n    </tr>\n    <tr>\n      <th>2</th>\n      <td>01005</td>\n      <td>Barbour</td>\n      <td>Alabama</td>\n      <td>2020-07-17</td>\n      <td>463</td>\n      <td>3.0</td>\n      <td>448.0</td>\n      <td>3.0</td>\n      <td>15.0</td>\n      <td>0.0</td>\n      <td>0.002054</td>\n    </tr>\n    <tr>\n      <th>3</th>\n      <td>01007</td>\n      <td>Bibb</td>\n      <td>Alabama</td>\n      <td>2020-07-17</td>\n      <td>255</td>\n      <td>2.0</td>\n      <td>251.0</td>\n      <td>2.0</td>\n      <td>4.0</td>\n      <td>0.0</td>\n      <td>0.001131</td>\n    </tr>\n    <tr>\n      <th>4</th>\n      <td>01009</td>\n      <td>Blount</td>\n      <td>Alabama</td>\n      <td>2020-07-17</td>\n      <td>440</td>\n      <td>1.0</td>\n      <td>406.0</td>\n      <td>1.0</td>\n      <td>34.0</td>\n      <td>0.0</td>\n      <td>0.001952</td>\n    </tr>\n  </tbody>\n</table>\n</div>"
     },
     "metadata": {},
     "execution_count": 93
    }
   ],
   "source": [
    "corona_df.head()"
   ]
  },
  {
   "cell_type": "code",
   "execution_count": 95,
   "metadata": {},
   "outputs": [],
   "source": [
    "corona_df = corona_df[corona_df['id'] != 0]"
   ]
  },
  {
   "cell_type": "code",
   "execution_count": 67,
   "metadata": {},
   "outputs": [
    {
     "output_type": "execute_result",
     "data": {
      "text/plain": "225414"
     },
     "metadata": {},
     "execution_count": 67
    }
   ],
   "source": [
    "max_case = max(list(corona_df['cases']))\n",
    "max_case"
   ]
  },
  {
   "cell_type": "code",
   "execution_count": 79,
   "metadata": {
    "tags": []
   },
   "outputs": [],
   "source": [
    "new_ids = []\n",
    "idex = list(corona_df['fips'])\n",
    "for id1 in idex:\n",
    "    newid = str(id1).split('.')[0]\n",
    "    if len(newid) == 4:\n",
    "        newid = '0' + str(id1).split('.')[0]\n",
    "        new_ids.append(newid)\n",
    "    else:\n",
    "        new_ids.append(newid)"
   ]
  },
  {
   "cell_type": "code",
   "execution_count": 82,
   "metadata": {},
   "outputs": [],
   "source": [
    "corona_df['id'] = new_ids\n",
    "corona_df = corona_df.drop('fips', axis =1)"
   ]
  },
  {
   "cell_type": "code",
   "execution_count": 50,
   "metadata": {},
   "outputs": [],
   "source": [
    "idex = list(corona_df['id'])"
   ]
  },
  {
   "cell_type": "code",
   "execution_count": 94,
   "metadata": {},
   "outputs": [],
   "source": [
    "corona_df.to_csv(r'../my-app/public/corona.csv', index = False)"
   ]
  },
  {
   "cell_type": "code",
   "execution_count": 40,
   "metadata": {},
   "outputs": [],
   "source": [
    "new_ids = []\n",
    "for id1 in idex:\n",
    "    try:\n",
    "        new_id = int('0' + str(id1).split('.')[0])\n",
    "        new_ids.append(new_id)\n",
    "    except:\n",
    "        new_ids.append(0)"
   ]
  },
  {
   "cell_type": "code",
   "execution_count": 25,
   "metadata": {},
   "outputs": [
    {
     "output_type": "execute_result",
     "data": {
      "text/plain": "'0[1001'"
     },
     "metadata": {},
     "execution_count": 25
    }
   ],
   "source": [
    "newid = '0' + str(idex).split('.')[0]\n",
    "newid"
   ]
  },
  {
   "cell_type": "code",
   "execution_count": 41,
   "metadata": {},
   "outputs": [],
   "source": [
    "corona_df['id'] = new_ids"
   ]
  },
  {
   "cell_type": "code",
   "execution_count": 91,
   "metadata": {},
   "outputs": [],
   "source": [
    "corona_df['norm_cases'] = corona_df['cases']/max_case\n",
    "corona_df = corona_df.drop('norm cases', axis = 1)"
   ]
  },
  {
   "cell_type": "code",
   "execution_count": 12,
   "metadata": {},
   "outputs": [
    {
     "output_type": "error",
     "ename": "Error",
     "evalue": "KeyboardInterrupt",
     "traceback": [
      "Error: KeyboardInterrupt",
      "at C.parseConnectInfo (/Users/baileyheit/.vscode/extensions/ms-python.python-2020.7.94776/out/client/extension.js:48:412943)",
      "at C.connectToLocal (/Users/baileyheit/.vscode/extensions/ms-python.python-2020.7.94776/out/client/extension.js:48:413524)",
      "at async C.connect (/Users/baileyheit/.vscode/extensions/ms-python.python-2020.7.94776/out/client/extension.js:48:409113)",
      "at async C.startDebugSession (/Users/baileyheit/.vscode/extensions/ms-python.python-2020.7.94776/out/client/extension.js:48:408111)",
      "at async P.submitCode (/Users/baileyheit/.vscode/extensions/ms-python.python-2020.7.94776/out/client/extension.js:24:453964)",
      "at async P.handleRunByLine (/Users/baileyheit/.vscode/extensions/ms-python.python-2020.7.94776/out/client/extension.js:24:442141)"
     ]
    }
   ],
   "source": [
    "us_state_abbrev = {\n",
    "'Alabama': 'AL',\n",
    "'Alaska': 'AK',\n",
    "'American Samoa': 'AS',\n",
    "'Arizona': 'AZ',\n",
    "'Arkansas': 'AR',\n",
    "'California': 'CA',\n",
    "'Colorado': 'CO',\n",
    "'Connecticut': 'CT',\n",
    "'Delaware': 'DE',\n",
    "'District of Columbia': 'DC',\n",
    "'Florida': 'FL',\n",
    "'Georgia': 'GA',\n",
    "'Guam': 'GU',\n",
    "'Hawaii': 'HI',\n",
    "'Idaho': 'ID',\n",
    "'Illinois': 'IL',\n",
    "'Indiana': 'IN',\n",
    "'Iowa': 'IA',\n",
    "'Kansas': 'KS',\n",
    "'Kentucky': 'KY',\n",
    "'Louisiana': 'LA',\n",
    "'Maine': 'ME',\n",
    "'Maryland': 'MD',\n",
    "'Massachusetts': 'MA',\n",
    "'Michigan': 'MI',\n",
    "'Minnesota': 'MN',\n",
    "'Mississippi': 'MS',\n",
    "'Missouri': 'MO',\n",
    "'Montana': 'MT',\n",
    "'Nebraska': 'NE',\n",
    "'Nevada': 'NV',\n",
    "'New Hampshire': 'NH',\n",
    "'New Jersey': 'NJ',\n",
    "'New Mexico': 'NM',\n",
    "'New York': 'NY',\n",
    "'North Carolina': 'NC',\n",
    "'North Dakota': 'ND',\n",
    "'Northern Mariana Islands':'MP',\n",
    "'Ohio': 'OH',\n",
    "'Oklahoma': 'OK',\n",
    "'Oregon': 'OR',\n",
    "'Pennsylvania': 'PA',\n",
    "'Puerto Rico': 'PR',\n",
    "'Rhode Island': 'RI',\n",
    "'South Carolina': 'SC',\n",
    "'South Dakota': 'SD',\n",
    "'Tennessee': 'TN',\n",
    "'Texas': 'TX',\n",
    "'Utah': 'UT',\n",
    "'Vermont': 'VT',\n",
    "'Virgin Islands': 'VI',\n",
    "'Virginia': 'VA',\n",
    "'Washington': 'WA',\n",
    "'West Virginia': 'WV',\n",
    "'Wisconsin': 'WI',\n",
    "'Wyoming': 'WY'\n",
    "}\n"
   ]
  },
  {
   "cell_type": "code",
   "execution_count": 13,
   "metadata": {},
   "outputs": [],
   "source": [
    "stat_abbr = []\n",
    "for ind, row in corona_df.iterrows():\n",
    "    state = row['state']\n",
    "    stat_abbr.append(us_state_abbrev[state])"
   ]
  },
  {
   "cell_type": "code",
   "execution_count": 14,
   "metadata": {},
   "outputs": [],
   "source": [
    "corona_df['state abbr'] = stat_abbr"
   ]
  },
  {
   "cell_type": "code",
   "execution_count": null,
   "metadata": {},
   "outputs": [],
   "source": []
  }
 ]
}